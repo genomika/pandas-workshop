{
  "nbformat": 4,
  "nbformat_minor": 0,
  "metadata": {
    "colab": {
      "name": "workshop-python_pandas_gnmk.ipynb",
      "provenance": [],
      "collapsed_sections": [],
      "include_colab_link": true
    },
    "kernelspec": {
      "name": "python3",
      "display_name": "Python 3"
    }
  },
  "cells": [
    {
      "cell_type": "markdown",
      "metadata": {
        "id": "view-in-github",
        "colab_type": "text"
      },
      "source": [
        "<a href=\"https://colab.research.google.com/github/genomika/pandas-workshop/blob/master/workshop-python_pandas_gnmk.ipynb\" target=\"_parent\"><img src=\"https://colab.research.google.com/assets/colab-badge.svg\" alt=\"Open In Colab\"/></a>"
      ]
    },
    {
      "cell_type": "markdown",
      "metadata": {
        "id": "73K30GnTmIsV",
        "colab_type": "text"
      },
      "source": [
        "# I Workshop de introdução a lib Pandas\n",
        "\n",
        "![pandas](https://files.realpython.com/media/Python-Pandas-10-Tricks--Features-You-May-Not-Know-Watermark.e58bb5ce9835.jpg)\n",
        "Figura 1: [\"Python Pandas: Tricks & Features You May Not Know\"](https://realpython.com/python-pandas-tricks/)\n",
        "\n",
        "0. Instalando conda, jupyter notebook, pandas, etc;\n",
        "\n",
        "  * [Instalando Conda no Ubuntu 18.04](https://www.digitalocean.com/community/tutorials/how-to-install-anaconda-on-ubuntu-18-04-quickstart-pt)\n",
        "  * [Instalando Conda no Windows](https://docs.conda.io/projects/conda/en/latest/user-guide/install/windows.html)\n",
        "  * [Instalando Conda no MacOS](https://docs.conda.io/projects/conda/en/latest/user-guide/install/macos.html)\n",
        "\n",
        "1. Abrindo arquivos com Pandas\n",
        "\n",
        "  * Series e DataFrames;\n",
        "  * CSV;\n",
        "  * Excel;\n",
        "  * Python dicionários;\n",
        "  * Python lista de tuplas;\n",
        "  * Python lista de dicionários;\n",
        "  * Abrindo arquivos `sql`, `parquet`, `pickle`, `html`;\n",
        "  * Criando `DataFrame`s;\n",
        "  * Manipulando linhas e colunas;\n",
        "  * Operações gerais;\n",
        "  * Escrevendo CSV, Excel.\n",
        "\n",
        "2. Manipulando `DataFrame`s\n",
        "  \n",
        "  * Seleções condicionais;\n",
        "  * Manipulando índices;\n",
        "  * Trabalhando com dados faltantes;\n",
        "  * Agrupando um `DataFrame`;\n",
        "  * Como juntar diferentes `DataFrame`s.\n",
        "\n",
        "3. Manipulando big data com Vaex\n",
        "\n",
        "4. Hands on com amostra de exemplo"
      ]
    },
    {
      "cell_type": "markdown",
      "metadata": {
        "id": "3LdWowTJNdYz",
        "colab_type": "text"
      },
      "source": [
        "# 1. Abrindo arquivos com Pandas"
      ]
    },
    {
      "cell_type": "markdown",
      "metadata": {
        "id": "HydL_GNymqk7",
        "colab_type": "text"
      },
      "source": [
        "### `Series` e `DataFrame`\n",
        "\n",
        "Para trabalhar manipulando dados com pandas é necessário importar esses dados de alguma forma para dentro da biblioteca. A forma mais comum de atingir esse objetivo é criar, usando o material de análise, estruturas de dados nativas do framework. Nesse curso, trabalharemos essencialmente com [*`DataFrame`*](https://pandas.pydata.org/pandas-docs/stable/reference/api/pandas.DataFrame.html) e [*`Series`*](https://pandas.pydata.org/pandas-docs/stable/reference/api/pandas.Series.html).\n",
        "\n",
        "`Series` são essencialmente uma estrutura similar a arrays unidimensionais cujo objetivo é guardar uma sequência de valores de forma indexada."
      ]
    },
    {
      "cell_type": "code",
      "metadata": {
        "id": "mjuH-w5McxpH",
        "colab_type": "code",
        "colab": {}
      },
      "source": [
        "import pandas as pd\n",
        "series = pd.Series([42, 13, 7, -99], index=[\"não\", \"aqui\", \"é o\", \"patrick\"])\n",
        "series"
      ],
      "execution_count": 0,
      "outputs": []
    },
    {
      "cell_type": "markdown",
      "metadata": {
        "id": "YYgh-O3hdbJh",
        "colab_type": "text"
      },
      "source": [
        "De maneira mais simples, podemos interpretar `Series` como dicionários ordenados e de tamanho fixo. Inclusive, conseguimos criar essas estruturas a partir de dicionários, e usá-las em contextos onde usaríamos dicionários."
      ]
    },
    {
      "cell_type": "code",
      "metadata": {
        "id": "KM_UV4krlUth",
        "colab_type": "code",
        "colab": {}
      },
      "source": [
        "# https://en.wikipedia.org/wiki/List_of_most-streamed_songs_on_Spotify\n",
        "spotify_mais_escutadas = {\"Shape of You\": 2433000, \"Rockstar\": 1831000, \"One Dance\": 1817000, \"Closer\": 1724000, \"Thinking Out Loud\": 1493000}\n",
        "mais_escutadas_series = pd.Series(spotify_mais_escutadas)\n",
        "mais_escutadas_series"
      ],
      "execution_count": 0,
      "outputs": []
    },
    {
      "cell_type": "code",
      "metadata": {
        "id": "pyxLG_f8sGyI",
        "colab_type": "code",
        "colab": {}
      },
      "source": [
        "\"Rockstar\" in mais_escutadas_series"
      ],
      "execution_count": 0,
      "outputs": []
    },
    {
      "cell_type": "code",
      "metadata": {
        "id": "1sappD52sR2i",
        "colab_type": "code",
        "colab": {}
      },
      "source": [
        "\"Bota Bota\" in mais_escutadas_series # :("
      ],
      "execution_count": 0,
      "outputs": []
    },
    {
      "cell_type": "markdown",
      "metadata": {
        "id": "qjRWIVCNv95y",
        "colab_type": "text"
      },
      "source": [
        "`DataFrame`s são representações tabulares de dados. Essa estrutura contém um conjunto ordenado de colunas, podendo cada uma ter um tipo especíco de valor (numérico, texto, boleano e etc.). No `DataFrame` ambas colunas e linhas possuem índice."
      ]
    },
    {
      "cell_type": "code",
      "metadata": {
        "id": "S9mMB9FR0vOI",
        "colab_type": "code",
        "colab": {}
      },
      "source": [
        "formato_data = \"%d/%m/%Y\"\n",
        "spotify_mais_escutadas = {\"música\": [\"Shape of You\", \"Rockstar\", \"One Dance\", \"Closer\", \"Thinking Out Loud\"],\n",
        "                          \"número_streams\": [2433000, 1831000, 1817000, 1724000, 1493000],\n",
        "                          \"data_publicação\": [pd.to_datetime(\"6/1/2017\", format=formato_data),\n",
        "                                              pd.to_datetime(\"15/9/2017\", format=formato_data),\n",
        "                                              pd.to_datetime(\"5/4/2016\", format=formato_data),\n",
        "                                              pd.to_datetime(\"29/7/2016\", format=formato_data),\n",
        "                                              pd.to_datetime(\"20/6/2014\", format=formato_data)]}\n",
        "spotify_mais_escutadas_df = pd.DataFrame(spotify_mais_escutadas)\n",
        "spotify_mais_escutadas_df"
      ],
      "execution_count": 0,
      "outputs": []
    },
    {
      "cell_type": "markdown",
      "metadata": {
        "id": "4W94rSHu5qkK",
        "colab_type": "text"
      },
      "source": [
        "Nesse workshop trabalharemos majoritariamente com `DataFrame`s. Apesar de não ser uma solução universal para todos os problemas, o conjunto de métodos e ferramentas que acompanham o tipo `DataFrame` provêm uma base sólida e de uso simples para a maioria dos casos de uso."
      ]
    },
    {
      "cell_type": "markdown",
      "metadata": {
        "id": "MwdLQkiu9exO",
        "colab_type": "text"
      },
      "source": [
        "### CSV\n",
        "\n",
        "Para criar um `DataFrame` a partir de um arquivo `.csv` usamos a função [`read_csv`](https://pandas.pydata.org/pandas-docs/stable/reference/api/pandas.read_csv.html). Arquivos `.csv` têm por definição vírgulas como separadores de campos. Contudo, podemos mudar o argumento do parâmetro `sep` da função para criar um `DataFrame` a partir de arquivos delimitados por outros caracteres, como por exemplo o *tab*."
      ]
    },
    {
      "cell_type": "code",
      "metadata": {
        "id": "fgUvRKPg2vuC",
        "colab_type": "code",
        "colab": {}
      },
      "source": [
        "multianno_df = pd.read_csv(\"https://www.dropbox.com/s/xsxbyel2t9fjidl/GNMK_WORKSHOP-001.avinput.hg19_multianno.ann.txt?dl=1\", sep=\"\\t\")\n",
        "multianno_df.head()"
      ],
      "execution_count": 0,
      "outputs": []
    },
    {
      "cell_type": "markdown",
      "metadata": {
        "id": "vQRqH4UOCq1c",
        "colab_type": "text"
      },
      "source": [
        "O cabeçalho do `DataFrame` é por padrão inferido pela função `read_csv` com base na primeira linha do arquivo. Esse comportamento pode ser modificado usando uma combinação de valores para os parâmetros `header` e `names`."
      ]
    },
    {
      "cell_type": "markdown",
      "metadata": {
        "id": "3mt6qXVyFa0-",
        "colab_type": "text"
      },
      "source": [
        "### Excel\n",
        "\n",
        "Para criar um `DataFrame` a partir de uma planilha do Excel usamos a função [`read_excel`](https://pandas.pydata.org/pandas-docs/stable/reference/api/pandas.read_excel.html). Essa função suporta arquivos com extensão *xls*, *xlsx*, *xlsm*, *xlsb*, e *odf*. Olhando por uma perspectiva de caixa preta, o comportamento da função `read_excel` é bem similar ao comportamento da função `read_csv`: Ambas recebem um arquivo e criam um `DataFrame` a partir do conteúdo desses arquivos."
      ]
    },
    {
      "cell_type": "code",
      "metadata": {
        "id": "wiRk5VxzM26N",
        "colab_type": "code",
        "colab": {}
      },
      "source": [
        "aba_exonic_df = pd.read_excel(\"https://www.dropbox.com/s/gyx0hqco6dhtwg2/GNMK_WORKSHOP-001.xlsx?dl=1\")\n",
        "aba_exonic_df.head()"
      ],
      "execution_count": 0,
      "outputs": []
    },
    {
      "cell_type": "markdown",
      "metadata": {
        "id": "VNyUozTfNaZH",
        "colab_type": "text"
      },
      "source": [
        "Caso a planilha usada como parâmetro contenha mais de uma aba, a função `read_excel` irá por padrão criar o `DataFrame` a partir dos dados contidos na primeira aba da planilha. Para usar dados de outras abas podemos mudar o argumento do parâmetro `sheet_name`."
      ]
    },
    {
      "cell_type": "code",
      "metadata": {
        "id": "UswN7sqVn3Xs",
        "colab_type": "code",
        "colab": {}
      },
      "source": [
        "# O parâmetro sheet_name pode receber uma string com o nome da aba cujo dados serão carregados\n",
        "aba_intronic_df = pd.read_excel(\"https://www.dropbox.com/s/gyx0hqco6dhtwg2/GNMK_WORKSHOP-001.xlsx?dl=1\", sheet_name=\"INTRONIC\")\n",
        "aba_intronic_df.head()"
      ],
      "execution_count": 0,
      "outputs": []
    },
    {
      "cell_type": "code",
      "metadata": {
        "id": "-hEXXQxgo6tf",
        "colab_type": "code",
        "colab": {}
      },
      "source": [
        "# Também podemos usar inteiros como parâmetro, fazendo referência a ordem das abas (index zero)\n",
        "aba_raw_df = pd.read_excel(\"https://www.dropbox.com/s/gyx0hqco6dhtwg2/GNMK_WORKSHOP-001.xlsx?dl=1\", sheet_name=3)\n",
        "aba_raw_df.head()"
      ],
      "execution_count": 0,
      "outputs": []
    },
    {
      "cell_type": "code",
      "metadata": {
        "id": "qRkFU3mMppBm",
        "colab_type": "code",
        "colab": {}
      },
      "source": [
        "# Se quisermos usar dados de todas as abas da planilha passamos None para o sheet_name\n",
        "planilha_completa = pd.read_excel(\"https://www.dropbox.com/s/gyx0hqco6dhtwg2/GNMK_WORKSHOP-001.xlsx?dl=1\", sheet_name=None)\n",
        "type(planilha_completa)"
      ],
      "execution_count": 0,
      "outputs": []
    },
    {
      "cell_type": "code",
      "metadata": {
        "id": "EJAv9JTFtNUX",
        "colab_type": "code",
        "colab": {}
      },
      "source": [
        "# E então podemos acessar os dados de todas as abas a partir de um único objeto\n",
        "aba_exonic_df = planilha_completa[\"EXONIC\"]\n",
        "aba_exonic_mosaic_df = planilha_completa[\"EXONIC MOSAIC\"]\n",
        "aba_intronic_df = planilha_completa[\"INTRONIC\"]\n",
        "aba_raw_df = planilha_completa[\"RAW\"]"
      ],
      "execution_count": 0,
      "outputs": []
    }
  ]
}